{
 "cells": [
  {
   "cell_type": "markdown",
   "metadata": {
    "id": "LNR1QT6twnUO"
   },
   "source": [
    "# **Projet : Classification dans un contexte déséquilibré, une application à la fraude bancaire**\n",
    "\n",
    "---\n"
   ]
  },
  {
   "cell_type": "markdown",
   "metadata": {
    "id": "3Eg4RWeM0sxo"
   },
   "source": [
    "Dans le cadre du *Master 2 SISE*, nous avons suivi un cours de **fouille de données massives** dont le but était de nous apprendre à lier le big data et le data mining afin de réaliser des analyses sur des données volumineuses. Pour valider cette matière, nous devIons réaliser un projet qui consiste à classifier des données dans un contexte déséquilibré. \n",
    "\n",
    "Concernant les données, elles proviennent d'une grande enseigne de la distribution ainsi que d'organismes bancaires (Banque de France et FNCI). Chaque ligne représente une transaction par chèque dans un magasin de l'enseigne. Le but est de prédire la variable **FlagImpaye** qui prend comme valeur 0 si la transaction a été acceptée et 1 si elle a été refusée. \n",
    "\n",
    "Dans un premier temps, nous allons découvrir les données en réalisant des statistiques descriptives pour mieux comprendre la situation et les enjeux, puis, dans un second temps, nous allons tester plusieurs modèles de machine learning afin de prédire au mieux la variable cible. "
   ]
  },
  {
   "cell_type": "markdown",
   "metadata": {
    "id": "qGvRWWvyeR7o"
   },
   "source": [
    "#  I. Traitements préliminaires : import, statistiques descriptives et pré-traitements"
   ]
  },
  {
   "cell_type": "markdown",
   "metadata": {
    "id": "8RS4S8P7UT4X"
   },
   "source": [
    "## 1) Import des données et description"
   ]
  },
  {
   "cell_type": "code",
   "execution_count": null,
   "metadata": {
    "id": "TvhFJxsT0WrU"
   },
   "outputs": [],
   "source": [
    "#Importation des librairies\n",
    "import pandas as pd"
   ]
  },
  {
   "cell_type": "code",
   "execution_count": null,
   "metadata": {
    "colab": {
     "base_uri": "https://localhost:8080/"
    },
    "id": "5lnL6d7z0eDX",
    "outputId": "552b9189-2fd9-4cf6-e3cf-dafe306250a0"
   },
   "outputs": [
    {
     "name": "stdout",
     "output_type": "stream",
     "text": [
      "Drive already mounted at /content/drive; to attempt to forcibly remount, call drive.mount(\"/content/drive\", force_remount=True).\n"
     ]
    }
   ],
   "source": [
    "#Importation du fichier de données\n",
    "from google.colab import drive\n",
    "drive.mount(\"/content/drive\")"
   ]
  },
  {
   "cell_type": "markdown",
   "metadata": {
    "id": "Ypl67qZMVdFZ"
   },
   "source": [
    "Lors de l'exploration du fichier, nous avons vu qu'il y a une ligne d'en-tête au milieu du fichier à la ligne 1 956 361. Lors de l'importation, nous avons donc décidé de supprimer cette ligne directement. "
   ]
  },
  {
   "cell_type": "code",
   "execution_count": null,
   "metadata": {
    "id": "Cbz8CmiXJYBI"
   },
   "outputs": [],
   "source": [
    "#Importation des données en supprimant la ligne d'en-tête au milieu du fichier\n",
    "data = pd.read_csv(\"/content/drive/MyDrive/MASTER 2 SISE/M2_SISE_Fouille_donnees_massives/data/guillaume.txt\",sep=\";\",decimal=\",\",\n",
    "                   skiprows=[1956361])"
   ]
  },
  {
   "cell_type": "code",
   "execution_count": null,
   "metadata": {
    "colab": {
     "base_uri": "https://localhost:8080/"
    },
    "id": "S9MFQInoFEf4",
    "outputId": "dd225e01-5cac-4708-f7c1-948c4645078b"
   },
   "outputs": [
    {
     "name": "stdout",
     "output_type": "stream",
     "text": [
      "<class 'pandas.core.frame.DataFrame'>\n",
      "RangeIndex: 4646773 entries, 0 to 4646772\n",
      "Data columns (total 23 columns):\n",
      " #   Column                    Dtype  \n",
      "---  ------                    -----  \n",
      " 0   ZIBZIN                    object \n",
      " 1   IDAvisAutorisationCheque  int64  \n",
      " 2   FlagImpaye                int64  \n",
      " 3   Montant                   float64\n",
      " 4   DateTransaction           object \n",
      " 5   CodeDecision              int64  \n",
      " 6   VerifianceCPT1            int64  \n",
      " 7   VerifianceCPT2            int64  \n",
      " 8   VerifianceCPT3            int64  \n",
      " 9   D2CB                      int64  \n",
      " 10  ScoringFP1                float64\n",
      " 11  ScoringFP2                float64\n",
      " 12  ScoringFP3                float64\n",
      " 13  TauxImpNb_RB              float64\n",
      " 14  TauxImpNB_CPM             float64\n",
      " 15  EcartNumCheq              int64  \n",
      " 16  NbrMagasin3J              int64  \n",
      " 17  DiffDateTr1               float64\n",
      " 18  DiffDateTr2               float64\n",
      " 19  DiffDateTr3               float64\n",
      " 20  CA3TRetMtt                float64\n",
      " 21  CA3TR                     float64\n",
      " 22  Heure                     int64  \n",
      "dtypes: float64(11), int64(10), object(2)\n",
      "memory usage: 815.4+ MB\n"
     ]
    }
   ],
   "source": [
    "#Informations du fichier\n",
    "data.info()"
   ]
  },
  {
   "cell_type": "markdown",
   "metadata": {
    "id": "w3OLtOUHWABd"
   },
   "source": [
    "Nous pouvons voir que, lors de l'importation, le transcryptage a plutôt été bien effectué par python. Cependant, nous devons changer le type de la variable \"DateTransaction\" afin de la mettre dans le format datetime. "
   ]
  },
  {
   "cell_type": "code",
   "execution_count": null,
   "metadata": {
    "colab": {
     "base_uri": "https://localhost:8080/",
     "height": 364
    },
    "id": "dpwYk-nscztH",
    "outputId": "78e3f01c-7dd8-4ca6-f389-a5d60552ace1"
   },
   "outputs": [
    {
     "data": {
      "text/html": [
       "\n",
       "  <div id=\"df-21803f14-5994-4405-8897-cd390fa617bc\">\n",
       "    <div class=\"colab-df-container\">\n",
       "      <div>\n",
       "<style scoped>\n",
       "    .dataframe tbody tr th:only-of-type {\n",
       "        vertical-align: middle;\n",
       "    }\n",
       "\n",
       "    .dataframe tbody tr th {\n",
       "        vertical-align: top;\n",
       "    }\n",
       "\n",
       "    .dataframe thead th {\n",
       "        text-align: right;\n",
       "    }\n",
       "</style>\n",
       "<table border=\"1\" class=\"dataframe\">\n",
       "  <thead>\n",
       "    <tr style=\"text-align: right;\">\n",
       "      <th></th>\n",
       "      <th>IDAvisAutorisationCheque</th>\n",
       "      <th>FlagImpaye</th>\n",
       "      <th>Montant</th>\n",
       "      <th>CodeDecision</th>\n",
       "      <th>VerifianceCPT1</th>\n",
       "      <th>VerifianceCPT2</th>\n",
       "      <th>VerifianceCPT3</th>\n",
       "      <th>D2CB</th>\n",
       "      <th>ScoringFP1</th>\n",
       "      <th>ScoringFP2</th>\n",
       "      <th>ScoringFP3</th>\n",
       "      <th>TauxImpNb_RB</th>\n",
       "      <th>TauxImpNB_CPM</th>\n",
       "      <th>EcartNumCheq</th>\n",
       "      <th>NbrMagasin3J</th>\n",
       "      <th>DiffDateTr1</th>\n",
       "      <th>DiffDateTr2</th>\n",
       "      <th>DiffDateTr3</th>\n",
       "      <th>CA3TRetMtt</th>\n",
       "      <th>CA3TR</th>\n",
       "      <th>Heure</th>\n",
       "    </tr>\n",
       "  </thead>\n",
       "  <tbody>\n",
       "    <tr>\n",
       "      <th>count</th>\n",
       "      <td>4.646773e+06</td>\n",
       "      <td>4.646773e+06</td>\n",
       "      <td>4.646773e+06</td>\n",
       "      <td>4.646773e+06</td>\n",
       "      <td>4.646773e+06</td>\n",
       "      <td>4.646773e+06</td>\n",
       "      <td>4.646773e+06</td>\n",
       "      <td>4.646773e+06</td>\n",
       "      <td>4.646773e+06</td>\n",
       "      <td>4.646773e+06</td>\n",
       "      <td>4.646773e+06</td>\n",
       "      <td>4.646773e+06</td>\n",
       "      <td>4.646773e+06</td>\n",
       "      <td>4.646773e+06</td>\n",
       "      <td>4.646773e+06</td>\n",
       "      <td>4.646773e+06</td>\n",
       "      <td>4.646773e+06</td>\n",
       "      <td>4.646773e+06</td>\n",
       "      <td>4.646773e+06</td>\n",
       "      <td>4.646773e+06</td>\n",
       "      <td>4.646773e+06</td>\n",
       "    </tr>\n",
       "    <tr>\n",
       "      <th>mean</th>\n",
       "      <td>8.088216e+07</td>\n",
       "      <td>6.455017e-03</td>\n",
       "      <td>6.014214e+01</td>\n",
       "      <td>2.516043e-01</td>\n",
       "      <td>2.295272e-01</td>\n",
       "      <td>2.452963e-01</td>\n",
       "      <td>2.716444e-01</td>\n",
       "      <td>3.139046e+02</td>\n",
       "      <td>2.217686e+00</td>\n",
       "      <td>2.033179e+00</td>\n",
       "      <td>1.373319e-01</td>\n",
       "      <td>3.912727e+01</td>\n",
       "      <td>3.850640e+01</td>\n",
       "      <td>8.480311e+03</td>\n",
       "      <td>1.036989e+00</td>\n",
       "      <td>3.873620e+00</td>\n",
       "      <td>4.166527e+00</td>\n",
       "      <td>4.199614e+00</td>\n",
       "      <td>6.730030e+01</td>\n",
       "      <td>7.158162e+00</td>\n",
       "      <td>5.248595e+04</td>\n",
       "    </tr>\n",
       "    <tr>\n",
       "      <th>std</th>\n",
       "      <td>1.781519e+06</td>\n",
       "      <td>8.008340e-02</td>\n",
       "      <td>1.019927e+02</td>\n",
       "      <td>4.475876e-01</td>\n",
       "      <td>4.422162e-01</td>\n",
       "      <td>4.965438e-01</td>\n",
       "      <td>5.812737e-01</td>\n",
       "      <td>2.207225e+02</td>\n",
       "      <td>2.709370e+01</td>\n",
       "      <td>9.715521e+00</td>\n",
       "      <td>4.867118e-01</td>\n",
       "      <td>6.011574e+01</td>\n",
       "      <td>1.673441e+01</td>\n",
       "      <td>1.982303e+05</td>\n",
       "      <td>1.920397e-01</td>\n",
       "      <td>1.059257e+00</td>\n",
       "      <td>5.171843e-01</td>\n",
       "      <td>4.242342e-01</td>\n",
       "      <td>1.114365e+02</td>\n",
       "      <td>3.860036e+01</td>\n",
       "      <td>1.187262e+04</td>\n",
       "    </tr>\n",
       "    <tr>\n",
       "      <th>min</th>\n",
       "      <td>7.864304e+07</td>\n",
       "      <td>0.000000e+00</td>\n",
       "      <td>1.000000e-02</td>\n",
       "      <td>0.000000e+00</td>\n",
       "      <td>0.000000e+00</td>\n",
       "      <td>0.000000e+00</td>\n",
       "      <td>0.000000e+00</td>\n",
       "      <td>1.000000e+00</td>\n",
       "      <td>0.000000e+00</td>\n",
       "      <td>-6.446148e+01</td>\n",
       "      <td>0.000000e+00</td>\n",
       "      <td>0.000000e+00</td>\n",
       "      <td>0.000000e+00</td>\n",
       "      <td>0.000000e+00</td>\n",
       "      <td>1.000000e+00</td>\n",
       "      <td>0.000000e+00</td>\n",
       "      <td>3.703704e-04</td>\n",
       "      <td>7.754630e-04</td>\n",
       "      <td>1.000000e-02</td>\n",
       "      <td>0.000000e+00</td>\n",
       "      <td>1.822500e+04</td>\n",
       "    </tr>\n",
       "    <tr>\n",
       "      <th>25%</th>\n",
       "      <td>7.946082e+07</td>\n",
       "      <td>0.000000e+00</td>\n",
       "      <td>2.598000e+01</td>\n",
       "      <td>0.000000e+00</td>\n",
       "      <td>0.000000e+00</td>\n",
       "      <td>0.000000e+00</td>\n",
       "      <td>0.000000e+00</td>\n",
       "      <td>4.900000e+01</td>\n",
       "      <td>5.631127e-03</td>\n",
       "      <td>-1.481721e+00</td>\n",
       "      <td>1.185316e-03</td>\n",
       "      <td>2.223457e+01</td>\n",
       "      <td>2.875694e+01</td>\n",
       "      <td>0.000000e+00</td>\n",
       "      <td>1.000000e+00</td>\n",
       "      <td>4.000000e+00</td>\n",
       "      <td>4.000000e+00</td>\n",
       "      <td>4.000000e+00</td>\n",
       "      <td>2.940000e+01</td>\n",
       "      <td>0.000000e+00</td>\n",
       "      <td>4.148500e+04</td>\n",
       "    </tr>\n",
       "    <tr>\n",
       "      <th>50%</th>\n",
       "      <td>8.029597e+07</td>\n",
       "      <td>0.000000e+00</td>\n",
       "      <td>4.412000e+01</td>\n",
       "      <td>0.000000e+00</td>\n",
       "      <td>0.000000e+00</td>\n",
       "      <td>0.000000e+00</td>\n",
       "      <td>0.000000e+00</td>\n",
       "      <td>3.870000e+02</td>\n",
       "      <td>1.096892e-02</td>\n",
       "      <td>1.636853e-01</td>\n",
       "      <td>1.728123e-03</td>\n",
       "      <td>3.433578e+01</td>\n",
       "      <td>3.681303e+01</td>\n",
       "      <td>0.000000e+00</td>\n",
       "      <td>1.000000e+00</td>\n",
       "      <td>4.000000e+00</td>\n",
       "      <td>4.000000e+00</td>\n",
       "      <td>4.000000e+00</td>\n",
       "      <td>4.941000e+01</td>\n",
       "      <td>0.000000e+00</td>\n",
       "      <td>5.347800e+04</td>\n",
       "    </tr>\n",
       "    <tr>\n",
       "      <th>75%</th>\n",
       "      <td>8.217947e+07</td>\n",
       "      <td>0.000000e+00</td>\n",
       "      <td>7.304000e+01</td>\n",
       "      <td>0.000000e+00</td>\n",
       "      <td>0.000000e+00</td>\n",
       "      <td>0.000000e+00</td>\n",
       "      <td>0.000000e+00</td>\n",
       "      <td>5.320000e+02</td>\n",
       "      <td>4.344551e-02</td>\n",
       "      <td>7.354217e+00</td>\n",
       "      <td>5.157858e-03</td>\n",
       "      <td>4.658322e+01</td>\n",
       "      <td>5.088256e+01</td>\n",
       "      <td>0.000000e+00</td>\n",
       "      <td>1.000000e+00</td>\n",
       "      <td>4.000000e+00</td>\n",
       "      <td>4.000000e+00</td>\n",
       "      <td>4.000000e+00</td>\n",
       "      <td>8.282000e+01</td>\n",
       "      <td>0.000000e+00</td>\n",
       "      <td>6.287700e+04</td>\n",
       "    </tr>\n",
       "    <tr>\n",
       "      <th>max</th>\n",
       "      <td>8.496640e+07</td>\n",
       "      <td>1.000000e+00</td>\n",
       "      <td>1.212600e+05</td>\n",
       "      <td>4.000000e+00</td>\n",
       "      <td>1.600000e+01</td>\n",
       "      <td>2.600000e+01</td>\n",
       "      <td>3.200000e+01</td>\n",
       "      <td>5.510000e+02</td>\n",
       "      <td>2.049888e+04</td>\n",
       "      <td>5.240133e+01</td>\n",
       "      <td>1.649094e+01</td>\n",
       "      <td>1.000000e+04</td>\n",
       "      <td>1.276970e+02</td>\n",
       "      <td>9.956167e+06</td>\n",
       "      <td>5.000000e+00</td>\n",
       "      <td>5.000000e+00</td>\n",
       "      <td>5.000000e+00</td>\n",
       "      <td>5.000000e+00</td>\n",
       "      <td>1.212600e+05</td>\n",
       "      <td>1.560000e+04</td>\n",
       "      <td>8.195800e+04</td>\n",
       "    </tr>\n",
       "  </tbody>\n",
       "</table>\n",
       "</div>\n",
       "      <button class=\"colab-df-convert\" onclick=\"convertToInteractive('df-21803f14-5994-4405-8897-cd390fa617bc')\"\n",
       "              title=\"Convert this dataframe to an interactive table.\"\n",
       "              style=\"display:none;\">\n",
       "        \n",
       "  <svg xmlns=\"http://www.w3.org/2000/svg\" height=\"24px\"viewBox=\"0 0 24 24\"\n",
       "       width=\"24px\">\n",
       "    <path d=\"M0 0h24v24H0V0z\" fill=\"none\"/>\n",
       "    <path d=\"M18.56 5.44l.94 2.06.94-2.06 2.06-.94-2.06-.94-.94-2.06-.94 2.06-2.06.94zm-11 1L8.5 8.5l.94-2.06 2.06-.94-2.06-.94L8.5 2.5l-.94 2.06-2.06.94zm10 10l.94 2.06.94-2.06 2.06-.94-2.06-.94-.94-2.06-.94 2.06-2.06.94z\"/><path d=\"M17.41 7.96l-1.37-1.37c-.4-.4-.92-.59-1.43-.59-.52 0-1.04.2-1.43.59L10.3 9.45l-7.72 7.72c-.78.78-.78 2.05 0 2.83L4 21.41c.39.39.9.59 1.41.59.51 0 1.02-.2 1.41-.59l7.78-7.78 2.81-2.81c.8-.78.8-2.07 0-2.86zM5.41 20L4 18.59l7.72-7.72 1.47 1.35L5.41 20z\"/>\n",
       "  </svg>\n",
       "      </button>\n",
       "      \n",
       "  <style>\n",
       "    .colab-df-container {\n",
       "      display:flex;\n",
       "      flex-wrap:wrap;\n",
       "      gap: 12px;\n",
       "    }\n",
       "\n",
       "    .colab-df-convert {\n",
       "      background-color: #E8F0FE;\n",
       "      border: none;\n",
       "      border-radius: 50%;\n",
       "      cursor: pointer;\n",
       "      display: none;\n",
       "      fill: #1967D2;\n",
       "      height: 32px;\n",
       "      padding: 0 0 0 0;\n",
       "      width: 32px;\n",
       "    }\n",
       "\n",
       "    .colab-df-convert:hover {\n",
       "      background-color: #E2EBFA;\n",
       "      box-shadow: 0px 1px 2px rgba(60, 64, 67, 0.3), 0px 1px 3px 1px rgba(60, 64, 67, 0.15);\n",
       "      fill: #174EA6;\n",
       "    }\n",
       "\n",
       "    [theme=dark] .colab-df-convert {\n",
       "      background-color: #3B4455;\n",
       "      fill: #D2E3FC;\n",
       "    }\n",
       "\n",
       "    [theme=dark] .colab-df-convert:hover {\n",
       "      background-color: #434B5C;\n",
       "      box-shadow: 0px 1px 3px 1px rgba(0, 0, 0, 0.15);\n",
       "      filter: drop-shadow(0px 1px 2px rgba(0, 0, 0, 0.3));\n",
       "      fill: #FFFFFF;\n",
       "    }\n",
       "  </style>\n",
       "\n",
       "      <script>\n",
       "        const buttonEl =\n",
       "          document.querySelector('#df-21803f14-5994-4405-8897-cd390fa617bc button.colab-df-convert');\n",
       "        buttonEl.style.display =\n",
       "          google.colab.kernel.accessAllowed ? 'block' : 'none';\n",
       "\n",
       "        async function convertToInteractive(key) {\n",
       "          const element = document.querySelector('#df-21803f14-5994-4405-8897-cd390fa617bc');\n",
       "          const dataTable =\n",
       "            await google.colab.kernel.invokeFunction('convertToInteractive',\n",
       "                                                     [key], {});\n",
       "          if (!dataTable) return;\n",
       "\n",
       "          const docLinkHtml = 'Like what you see? Visit the ' +\n",
       "            '<a target=\"_blank\" href=https://colab.research.google.com/notebooks/data_table.ipynb>data table notebook</a>'\n",
       "            + ' to learn more about interactive tables.';\n",
       "          element.innerHTML = '';\n",
       "          dataTable['output_type'] = 'display_data';\n",
       "          await google.colab.output.renderOutput(dataTable, element);\n",
       "          const docLink = document.createElement('div');\n",
       "          docLink.innerHTML = docLinkHtml;\n",
       "          element.appendChild(docLink);\n",
       "        }\n",
       "      </script>\n",
       "    </div>\n",
       "  </div>\n",
       "  "
      ],
      "text/plain": [
       "       IDAvisAutorisationCheque    FlagImpaye  ...         CA3TR         Heure\n",
       "count              4.646773e+06  4.646773e+06  ...  4.646773e+06  4.646773e+06\n",
       "mean               8.088216e+07  6.455017e-03  ...  7.158162e+00  5.248595e+04\n",
       "std                1.781519e+06  8.008340e-02  ...  3.860036e+01  1.187262e+04\n",
       "min                7.864304e+07  0.000000e+00  ...  0.000000e+00  1.822500e+04\n",
       "25%                7.946082e+07  0.000000e+00  ...  0.000000e+00  4.148500e+04\n",
       "50%                8.029597e+07  0.000000e+00  ...  0.000000e+00  5.347800e+04\n",
       "75%                8.217947e+07  0.000000e+00  ...  0.000000e+00  6.287700e+04\n",
       "max                8.496640e+07  1.000000e+00  ...  1.560000e+04  8.195800e+04\n",
       "\n",
       "[8 rows x 21 columns]"
      ]
     },
     "execution_count": 29,
     "metadata": {},
     "output_type": "execute_result"
    }
   ],
   "source": [
    "# Description des données\n",
    "data.describe()"
   ]
  },
  {
   "cell_type": "code",
   "execution_count": null,
   "metadata": {
    "colab": {
     "base_uri": "https://localhost:8080/"
    },
    "id": "_4GN8NyhdOOt",
    "outputId": "306a3929-a9b5-493d-f7d5-7588a14e1f47"
   },
   "outputs": [
    {
     "data": {
      "text/plain": [
       "(4646773, 23)"
      ]
     },
     "execution_count": 30,
     "metadata": {},
     "output_type": "execute_result"
    }
   ],
   "source": [
    "# Dimension du fichier\n",
    "data.shape"
   ]
  },
  {
   "cell_type": "markdown",
   "metadata": {
    "id": "WO_O8LLFWk7u"
   },
   "source": [
    "Nous pouvons voir que nous avons énormement de données soit 4 646 773 lignes et 23 variables. La description des variables est présente dans le sujet. "
   ]
  },
  {
   "cell_type": "markdown",
   "metadata": {
    "id": "vhX6KDjYUhkJ"
   },
   "source": [
    "## 2) Pré-traitements des données"
   ]
  },
  {
   "cell_type": "markdown",
   "metadata": {
    "id": "CvJftZmyU7x6"
   },
   "source": [
    "### 2.1 Transformation et suppression de variables"
   ]
  },
  {
   "cell_type": "code",
   "execution_count": null,
   "metadata": {
    "id": "uYC9dUVOhlq0"
   },
   "outputs": [],
   "source": [
    "#Suppression des variables non utiles à notre prédiction\n",
    "data = data.drop(columns=['ZIBZIN', 'IDAvisAutorisationCheque'])"
   ]
  },
  {
   "cell_type": "markdown",
   "metadata": {
    "id": "heN3YTqKW2Eg"
   },
   "source": [
    "Nous avons supprimé les colonnes d'identifiant : identificiant bancaire ZIBZIN et l'identifiant du chèque IDAvisAutorisationCheque. Ces deux colonnes ne sont pas utiles aux modèles de prédiction par la suite. "
   ]
  },
  {
   "cell_type": "code",
   "execution_count": null,
   "metadata": {
    "id": "fHQcyYXyNkmF"
   },
   "outputs": [],
   "source": [
    "#Transformation de la date en datetime\n",
    "data['DateTransaction'] = pd.to_datetime(data['DateTransaction'])"
   ]
  },
  {
   "cell_type": "code",
   "execution_count": null,
   "metadata": {
    "colab": {
     "base_uri": "https://localhost:8080/"
    },
    "id": "541VKNw1OoQ_",
    "outputId": "e6db4a56-ab54-4849-9503-6f6b3ea9596e"
   },
   "outputs": [
    {
     "name": "stdout",
     "output_type": "stream",
     "text": [
      "<class 'pandas.core.frame.DataFrame'>\n",
      "RangeIndex: 4646773 entries, 0 to 4646772\n",
      "Data columns (total 21 columns):\n",
      " #   Column           Dtype         \n",
      "---  ------           -----         \n",
      " 0   FlagImpaye       int64         \n",
      " 1   Montant          float64       \n",
      " 2   DateTransaction  datetime64[ns]\n",
      " 3   CodeDecision     int64         \n",
      " 4   VerifianceCPT1   int64         \n",
      " 5   VerifianceCPT2   int64         \n",
      " 6   VerifianceCPT3   int64         \n",
      " 7   D2CB             int64         \n",
      " 8   ScoringFP1       float64       \n",
      " 9   ScoringFP2       float64       \n",
      " 10  ScoringFP3       float64       \n",
      " 11  TauxImpNb_RB     float64       \n",
      " 12  TauxImpNB_CPM    float64       \n",
      " 13  EcartNumCheq     int64         \n",
      " 14  NbrMagasin3J     int64         \n",
      " 15  DiffDateTr1      float64       \n",
      " 16  DiffDateTr2      float64       \n",
      " 17  DiffDateTr3      float64       \n",
      " 18  CA3TRetMtt       float64       \n",
      " 19  CA3TR            float64       \n",
      " 20  Heure            int64         \n",
      "dtypes: datetime64[ns](1), float64(11), int64(9)\n",
      "memory usage: 744.5 MB\n"
     ]
    }
   ],
   "source": [
    "#Informations du fichier\n",
    "data.info()"
   ]
  },
  {
   "cell_type": "markdown",
   "metadata": {
    "id": "5diDtBpQU0Vv"
   },
   "source": [
    "### 2.2 Vérification des valeurs manquantes"
   ]
  },
  {
   "cell_type": "code",
   "execution_count": null,
   "metadata": {
    "colab": {
     "base_uri": "https://localhost:8080/"
    },
    "id": "s3WFvvHnVIvC",
    "outputId": "e9ed20ee-bdf2-4096-b7ec-04465d33b27b"
   },
   "outputs": [
    {
     "data": {
      "text/plain": [
       "FlagImpaye         4646773\n",
       "Montant            4646773\n",
       "DateTransaction    4646773\n",
       "CodeDecision       4646773\n",
       "VerifianceCPT1     4646773\n",
       "VerifianceCPT2     4646773\n",
       "VerifianceCPT3     4646773\n",
       "D2CB               4646773\n",
       "ScoringFP1         4646773\n",
       "ScoringFP2         4646773\n",
       "ScoringFP3         4646773\n",
       "TauxImpNb_RB       4646773\n",
       "TauxImpNB_CPM      4646773\n",
       "EcartNumCheq       4646773\n",
       "NbrMagasin3J       4646773\n",
       "DiffDateTr1        4646773\n",
       "DiffDateTr2        4646773\n",
       "DiffDateTr3        4646773\n",
       "CA3TRetMtt         4646773\n",
       "CA3TR              4646773\n",
       "Heure              4646773\n",
       "dtype: int64"
      ]
     },
     "execution_count": 34,
     "metadata": {},
     "output_type": "execute_result"
    }
   ],
   "source": [
    "data.count()"
   ]
  },
  {
   "cell_type": "markdown",
   "metadata": {
    "id": "jqnMx6CHVLuK"
   },
   "source": [
    "Nous pouvons voir que toutes les variables sont complètes, il n'y a aucune valeur manquante. "
   ]
  },
  {
   "cell_type": "markdown",
   "metadata": {
    "id": "_xHZVnmRbzFA"
   },
   "source": [
    "### 2.3 Analyse de la variable cible : FlagImpaye"
   ]
  },
  {
   "cell_type": "markdown",
   "metadata": {
    "id": "vpJXMshiefV_"
   },
   "source": [
    "Nous allons faire une analyse plus poussée de la variable cible afin de savoir sa distribution et ses caractéristiques. Elle est composée de deux modalités : 0 lorsque la transaction est acceptée et 1 lorsqu'elle est refusée. "
   ]
  },
  {
   "cell_type": "code",
   "execution_count": null,
   "metadata": {
    "colab": {
     "base_uri": "https://localhost:8080/"
    },
    "id": "wjH_v5Olb5oe",
    "outputId": "70214ce7-4408-4c15-86bd-6bc620aad655"
   },
   "outputs": [
    {
     "name": "stdout",
     "output_type": "stream",
     "text": [
      "0    0.993545\n",
      "1    0.006455\n",
      "Name: FlagImpaye, dtype: float64\n"
     ]
    }
   ],
   "source": [
    "# Nb de chèque accepté et refusé\n",
    "print(data['FlagImpaye'].value_counts(normalize=True))"
   ]
  },
  {
   "cell_type": "markdown",
   "metadata": {
    "id": "xAuF5ikrecuS"
   },
   "source": [
    "Il y a donc un fort déséquilibre entre les deux modalités. Nous pouvons voir que seulement 0.006% des transactions par chèque sont refusées dans cette enseigne. \n",
    "\n",
    "Nous sommes donc dans un cas désésquilibré c'est-à-dire qu'une classe est majoritaire sur l'autre, ici les transactions acceptées. Nous devons le prendre en compte dans la suite dans nos modèles de prédiction afin d'obtenir des résultats les plus fiables possibles. En effet, si nous ne le prenons pas en compte, nos interprétations peuvent être totalement fausses. "
   ]
  },
  {
   "cell_type": "markdown",
   "metadata": {
    "id": "KiK4IMx4Gb1H"
   },
   "source": [
    "# II Modèles de prédiction"
   ]
  },
  {
   "cell_type": "markdown",
   "metadata": {
    "id": "WuLszejBG6kG"
   },
   "source": [
    "Cette partie est concacrée à nos modèles de prédiction. Nous allons effectuer plusieurs modèles de prédiction, les évaluer et les comparer entre eux. \n",
    "\n",
    "Dans un premier temps, nous avons séparé nos données en échantillon d'apprentissage et échantillon de test. Puis, nous avons centré-réduit les variables explicatives afin de les mettre à la même échelle et pouvoir les comparer. Enfin, nous avons fait le choix de réaliser une méthode de rééchantillonnage SMOTE pour nos données. De ce fait, les données ne sont plus déséquilibrées et nous appliquons nos différents modèles de prédiction sur des données centrées-réduites et équilibrées.\n",
    "\n",
    "Dans la suite, nous avons testé un modèle Gradient Boosting, un modèle K plus proches voisins, une régression logistique, un Random Forest et ....\n",
    "\n"
   ]
  },
  {
   "cell_type": "markdown",
   "metadata": {
    "id": "ZlOf6E3bU3IZ"
   },
   "source": [
    "## 1) Séparation des données en échantillons d'apprentissage et test et centrage-réduction des variables explicatives"
   ]
  },
  {
   "cell_type": "markdown",
   "metadata": {
    "id": "5L3JBu_IJ39_"
   },
   "source": [
    "### 1.1 Séparation des données en apprentissage et test\n"
   ]
  },
  {
   "cell_type": "code",
   "execution_count": null,
   "metadata": {
    "colab": {
     "base_uri": "https://localhost:8080/"
    },
    "id": "ZgEmam3gKUhn",
    "outputId": "90d45088-0b29-4c38-f57f-389c427b3031"
   },
   "outputs": [
    {
     "name": "stdout",
     "output_type": "stream",
     "text": [
      "<class 'pandas.core.frame.DataFrame'>\n",
      "RangeIndex: 4646773 entries, 0 to 4646772\n",
      "Data columns (total 21 columns):\n",
      " #   Column           Dtype         \n",
      "---  ------           -----         \n",
      " 0   FlagImpaye       int64         \n",
      " 1   Montant          float64       \n",
      " 2   DateTransaction  datetime64[ns]\n",
      " 3   CodeDecision     int64         \n",
      " 4   VerifianceCPT1   int64         \n",
      " 5   VerifianceCPT2   int64         \n",
      " 6   VerifianceCPT3   int64         \n",
      " 7   D2CB             int64         \n",
      " 8   ScoringFP1       float64       \n",
      " 9   ScoringFP2       float64       \n",
      " 10  ScoringFP3       float64       \n",
      " 11  TauxImpNb_RB     float64       \n",
      " 12  TauxImpNB_CPM    float64       \n",
      " 13  EcartNumCheq     int64         \n",
      " 14  NbrMagasin3J     int64         \n",
      " 15  DiffDateTr1      float64       \n",
      " 16  DiffDateTr2      float64       \n",
      " 17  DiffDateTr3      float64       \n",
      " 18  CA3TRetMtt       float64       \n",
      " 19  CA3TR            float64       \n",
      " 20  Heure            int64         \n",
      "dtypes: datetime64[ns](1), float64(11), int64(9)\n",
      "memory usage: 744.5 MB\n"
     ]
    }
   ],
   "source": [
    "# Vue des données \n",
    "data.info()"
   ]
  },
  {
   "cell_type": "code",
   "execution_count": null,
   "metadata": {
    "colab": {
     "base_uri": "https://localhost:8080/"
    },
    "id": "A1rBrC1EKBwH",
    "outputId": "79ee004f-164d-4a2d-a247-aa3020a4bf14"
   },
   "outputs": [
    {
     "name": "stdout",
     "output_type": "stream",
     "text": [
      "(3888468, 21)\n",
      "(737068, 21)\n"
     ]
    }
   ],
   "source": [
    "#Scindage en Train et Test selon les dates\n",
    "Train = data[ (data['DateTransaction'] >= '2017-02-01') & (data['DateTransaction']<='2017-08-31') ]\n",
    "Test = data[ (data['DateTransaction'] >= '2017-09-01') & (data['DateTransaction']<='2017-11-30') ]\n",
    "print(Train.shape)\n",
    "print(Test.shape)"
   ]
  },
  {
   "cell_type": "code",
   "execution_count": null,
   "metadata": {
    "id": "PxkvtkH6NGsf"
   },
   "outputs": [],
   "source": [
    "#Suppression de la variable 'DateTransaction' et de Heure\n",
    "Train = Train.drop(columns=['DateTransaction','Heure'])\n",
    "Test = Test.drop(columns=['DateTransaction','Heure'])"
   ]
  },
  {
   "cell_type": "code",
   "execution_count": null,
   "metadata": {
    "colab": {
     "base_uri": "https://localhost:8080/"
    },
    "id": "yx1MegCoNQBm",
    "outputId": "4a192c7e-f357-4460-d077-96ef594f66e7"
   },
   "outputs": [
    {
     "name": "stdout",
     "output_type": "stream",
     "text": [
      "         FlagImpaye  Montant  CodeDecision  ...  DiffDateTr3  CA3TRetMtt   CA3TR\n",
      "0                 0    20.00             1  ...          4.0       20.00    0.00\n",
      "1                 0    20.00             1  ...          4.0       28.61    8.61\n",
      "2                 0    57.64             1  ...          4.0       57.64    0.00\n",
      "3                 0    54.29             0  ...          4.0       54.29    0.00\n",
      "4                 0    26.90             1  ...          4.0       59.15   32.25\n",
      "...             ...      ...           ...  ...          ...         ...     ...\n",
      "3888463           0   137.90             0  ...          4.0      137.90    0.00\n",
      "3888464           0    73.76             0  ...          4.0       73.76    0.00\n",
      "3888465           0    61.21             0  ...          4.0       61.21    0.00\n",
      "3888466           0    58.90             0  ...          4.0      304.50  245.60\n",
      "3888467           0    24.99             0  ...          4.0       24.99    0.00\n",
      "\n",
      "[3888468 rows x 19 columns]\n",
      "         FlagImpaye  Montant  CodeDecision  ...  DiffDateTr3  CA3TRetMtt  CA3TR\n",
      "3899362           0    60.00             0  ...     4.000000       60.00   0.00\n",
      "3899363           0    25.00             0  ...     4.000000       25.00   0.00\n",
      "3899364           0    32.00             0  ...     4.000000       32.00   0.00\n",
      "3899365           0    20.88             0  ...     1.539155       92.39  71.51\n",
      "3899366           0    20.21             0  ...     4.000000       20.21   0.00\n",
      "...             ...      ...           ...  ...          ...         ...    ...\n",
      "4636425           0    79.75             0  ...     4.000000       79.75   0.00\n",
      "4636426           0     8.40             0  ...     4.000000        8.40   0.00\n",
      "4636427           0    14.27             0  ...     4.000000       14.27   0.00\n",
      "4636428           0    30.15             0  ...     5.000000       30.15   0.00\n",
      "4636429           0    34.36             0  ...     5.000000       68.21  33.85\n",
      "\n",
      "[737068 rows x 19 columns]\n"
     ]
    }
   ],
   "source": [
    "#Informations du fichier \n",
    "print(Train)\n",
    "print(Test)"
   ]
  },
  {
   "cell_type": "code",
   "execution_count": null,
   "metadata": {
    "colab": {
     "base_uri": "https://localhost:8080/"
    },
    "id": "nbveVy6qN09O",
    "outputId": "daec1f5c-9433-46c2-c6a7-33d180c577e8"
   },
   "outputs": [
    {
     "name": "stdout",
     "output_type": "stream",
     "text": [
      "(3888468, 18)\n",
      "(3888468,)\n",
      "(737068, 18)\n",
      "(737068,)\n"
     ]
    }
   ],
   "source": [
    "#Séparation en X et Y\n",
    "XTrain = Train.iloc[:,1:21]\n",
    "YTrain = Train.iloc[:,0]\n",
    "\n",
    "XTest = Test.iloc[:,1:21]\n",
    "YTest = Test.iloc[:,0]\n",
    "\n",
    "print(XTrain.shape)\n",
    "print(YTrain.shape)\n",
    "print(XTest.shape)\n",
    "print(YTest.shape)"
   ]
  },
  {
   "cell_type": "code",
   "execution_count": null,
   "metadata": {
    "colab": {
     "base_uri": "https://localhost:8080/"
    },
    "id": "AkwaIeNrOYrG",
    "outputId": "c885f451-126f-4d27-8854-fab701b7fb6d"
   },
   "outputs": [
    {
     "name": "stdout",
     "output_type": "stream",
     "text": [
      "         Montant  CodeDecision  VerifianceCPT1  ...  DiffDateTr3  CA3TRetMtt   CA3TR\n",
      "0          20.00             1               0  ...          4.0       20.00    0.00\n",
      "1          20.00             1               0  ...          4.0       28.61    8.61\n",
      "2          57.64             1               0  ...          4.0       57.64    0.00\n",
      "3          54.29             0               1  ...          4.0       54.29    0.00\n",
      "4          26.90             1               0  ...          4.0       59.15   32.25\n",
      "...          ...           ...             ...  ...          ...         ...     ...\n",
      "3888463   137.90             0               0  ...          4.0      137.90    0.00\n",
      "3888464    73.76             0               0  ...          4.0       73.76    0.00\n",
      "3888465    61.21             0               0  ...          4.0       61.21    0.00\n",
      "3888466    58.90             0               0  ...          4.0      304.50  245.60\n",
      "3888467    24.99             0               0  ...          4.0       24.99    0.00\n",
      "\n",
      "[3888468 rows x 18 columns]\n",
      "0          0\n",
      "1          0\n",
      "2          0\n",
      "3          0\n",
      "4          0\n",
      "          ..\n",
      "3888463    0\n",
      "3888464    0\n",
      "3888465    0\n",
      "3888466    0\n",
      "3888467    0\n",
      "Name: FlagImpaye, Length: 3888468, dtype: int64\n"
     ]
    }
   ],
   "source": [
    "print(XTrain)\n",
    "print(YTrain)"
   ]
  },
  {
   "cell_type": "code",
   "execution_count": null,
   "metadata": {
    "colab": {
     "base_uri": "https://localhost:8080/"
    },
    "id": "1tV0rUpvOcv5",
    "outputId": "2c40721f-9b74-44cc-fd61-b0678612002a"
   },
   "outputs": [
    {
     "name": "stdout",
     "output_type": "stream",
     "text": [
      "         Montant  CodeDecision  VerifianceCPT1  ...  DiffDateTr3  CA3TRetMtt  CA3TR\n",
      "3899362    60.00             0               0  ...     4.000000       60.00   0.00\n",
      "3899363    25.00             0               0  ...     4.000000       25.00   0.00\n",
      "3899364    32.00             0               0  ...     4.000000       32.00   0.00\n",
      "3899365    20.88             0               0  ...     1.539155       92.39  71.51\n",
      "3899366    20.21             0               0  ...     4.000000       20.21   0.00\n",
      "...          ...           ...             ...  ...          ...         ...    ...\n",
      "4636425    79.75             0               0  ...     4.000000       79.75   0.00\n",
      "4636426     8.40             0               0  ...     4.000000        8.40   0.00\n",
      "4636427    14.27             0               0  ...     4.000000       14.27   0.00\n",
      "4636428    30.15             0               0  ...     5.000000       30.15   0.00\n",
      "4636429    34.36             0               0  ...     5.000000       68.21  33.85\n",
      "\n",
      "[737068 rows x 18 columns]\n",
      "3899362    0\n",
      "3899363    0\n",
      "3899364    0\n",
      "3899365    0\n",
      "3899366    0\n",
      "          ..\n",
      "4636425    0\n",
      "4636426    0\n",
      "4636427    0\n",
      "4636428    0\n",
      "4636429    0\n",
      "Name: FlagImpaye, Length: 737068, dtype: int64\n"
     ]
    }
   ],
   "source": [
    "print(XTest)\n",
    "print(YTest)"
   ]
  },
  {
   "cell_type": "markdown",
   "metadata": {
    "id": "xyd_R9K2TtgG"
   },
   "source": [
    "### 1.2 Centrage-réduction des variables explicatives"
   ]
  },
  {
   "cell_type": "markdown",
   "metadata": {
    "id": "vv58wPhO86_I"
   },
   "source": [
    "Nous allons centrer-réduire les variables explicatives. En effet, elles sont exprimées avec des échelles différentes ce qui rend leurs comparaisons compliquées. Nous allons standardiser l'échantillon d'apprentissage puis nous appliquons les mêmes paramètres (moyenne et écart-type) de l'échantillon train pour standardiser l'échantillon de test. "
   ]
  },
  {
   "cell_type": "code",
   "execution_count": null,
   "metadata": {
    "id": "_8P3OcepTwsE"
   },
   "outputs": [],
   "source": [
    "#Centrage-réduction \n",
    "from sklearn.preprocessing import StandardScaler\n",
    "sc = StandardScaler()\n",
    "        \n",
    "#transformation – centrage-réduction\n",
    "XTrain = sc.fit_transform(XTrain)\n",
    "XTest = sc.transform(XTest)"
   ]
  },
  {
   "cell_type": "code",
   "execution_count": null,
   "metadata": {
    "colab": {
     "base_uri": "https://localhost:8080/"
    },
    "id": "HQ_b-gNUMT8n",
    "outputId": "b5a2dd3a-675b-4686-bff6-b1bc66fecdb1"
   },
   "outputs": [
    {
     "name": "stdout",
     "output_type": "stream",
     "text": [
      "[[-0.41991517  1.49583656 -0.58291466 ... -0.45098926 -0.4551077\n",
      "  -0.20275137]\n",
      " [-0.41991517  1.49583656 -0.58291466 ... -0.45098926 -0.37165145\n",
      "   0.03877605]\n",
      " [-0.02203723  1.49583656 -0.58291466 ... -0.45098926 -0.09026526\n",
      "  -0.20275137]\n",
      " ...\n",
      " [ 0.01569986 -0.63468624 -0.58291466 ... -0.45098926 -0.05566145\n",
      "  -0.20275137]\n",
      " [-0.00871826 -0.63468624 -0.58291466 ... -0.45098926  2.30253508\n",
      "   6.68681129]\n",
      " [-0.3671678  -0.63468624 -0.58291466 ... -0.45098926 -0.40673991\n",
      "  -0.20275137]]\n",
      "[[ 0.00290942 -0.63468624 -0.58291466 ... -0.45098926 -0.06738991\n",
      "  -0.20275137]\n",
      " [-0.36706209 -0.63468624 -0.58291466 ... -0.45098926 -0.40664298\n",
      "  -0.20275137]\n",
      " [-0.29306779 -0.63468624 -0.58291466 ... -0.45098926 -0.33879236\n",
      "  -0.20275137]\n",
      " ...\n",
      " [-0.48048479 -0.63468624 -0.58291466 ... -0.45098926 -0.51064827\n",
      "  -0.20275137]\n",
      " [-0.31262343 -0.63468624 -0.58291466 ...  1.95521654 -0.35672431\n",
      "  -0.20275137]\n",
      " [-0.26812114 -0.63468624 -0.58291466 ...  1.95521654  0.01218917\n",
      "   0.74680765]]\n"
     ]
    }
   ],
   "source": [
    "#Vérification\n",
    "print(XTrain)\n",
    "print(XTest)"
   ]
  },
  {
   "cell_type": "markdown",
   "metadata": {
    "id": "sW3eva3m2wWg"
   },
   "source": [
    "### 1.3 Méthode de réchantillonnage : SMOTE"
   ]
  },
  {
   "cell_type": "markdown",
   "metadata": {
    "id": "FJTxaVgQ21xG"
   },
   "source": [
    "Comme nous sommes dans le cas déséquilibré, nous avons fait le choix de rééchantillonner nos données. C'est une technique qui génére des échantillons synthétiques de manière automatique. Il y a deux méthodes : l'Oversampling qui augmente le nombre d'observations de la classe minoritaire ou l'Undersampling qui diminue le nombre d'observations de la classe majoritaire. Ces deux méthodes ont pour but d'obtenir un ratio classe minoritaire et classe majoritaire satisfaisant afin d'obtenir des résultats corrects et interprétables. \n",
    "\n",
    "Nous avons fait le choix d'utiliser une méthode d'Oversampling, SMOTE (Synthetic Minority Over-sampling Technique). Elle fonctionne en créant des échantillons synthétiques à partir de la classe minoritaire au lieu de créer de simples copies. C'est une méthode très connue et efficace."
   ]
  },
  {
   "cell_type": "code",
   "execution_count": null,
   "metadata": {
    "id": "hB5sOg-X98AJ"
   },
   "outputs": [],
   "source": [
    "# SMOTE\n",
    "from imblearn.over_sampling import SMOTE\n",
    "oversample = SMOTE()\n",
    "XTrain, YTrain = oversample.fit_resample(XTrain, YTrain)"
   ]
  },
  {
   "cell_type": "code",
   "execution_count": null,
   "metadata": {
    "colab": {
     "base_uri": "https://localhost:8080/"
    },
    "id": "t1Vn3aVH-7Yw",
    "outputId": "53a038d3-9090-4c27-e6e1-ed1e2347b9dc"
   },
   "outputs": [
    {
     "name": "stdout",
     "output_type": "stream",
     "text": [
      "1    0.5\n",
      "0    0.5\n",
      "Name: FlagImpaye, dtype: float64\n"
     ]
    }
   ],
   "source": [
    "# Nouvelles distributions des classes\n",
    "print(YTrain.value_counts(normalize=True))"
   ]
  },
  {
   "cell_type": "markdown",
   "metadata": {
    "id": "G_X1nv9T_MBn"
   },
   "source": [
    "Nous pouvons voir que nos classes ont été équilibrées. Maintenant nous avons autant de transactions refusées que acceptées. Nous allons donc appliquer des algorithmes de machine learning sur nos nouvelles données réechantillonnées. "
   ]
  },
  {
   "cell_type": "markdown",
   "metadata": {
    "id": "xJNyalQ2NnCH"
   },
   "source": [
    "## 2) Nos modèles de prédiction"
   ]
  },
  {
   "cell_type": "markdown",
   "metadata": {
    "id": "DuvjqatIVgVf"
   },
   "source": [
    "### 2.1 Gradient Boosting"
   ]
  },
  {
   "cell_type": "markdown",
   "metadata": {
    "id": "KVlBubVjVscb"
   },
   "source": [
    "Nous avons décidé de tester un modèle Gradient Boosting sur nos données. En effet, nous avons effectué de nombreuses recherches et il en ressort que ce modèle semble adapté pour la détection de fraude dans des cas déséquilibré. C'est un algorithme supervisé qui a pour but de combiner les résultats d'un ensemble de modèles plus simples afin de fournir une meilleure prédiction au lieu d'effectuer uniquement un modèle. On peut gérer des problèmes de régression et de classification avec cette méthode. \n",
    "\n",
    "Nous allons utiliser XGBoost, une librairie de Python. XGBoost signifie eXtreme Gradient Boosting. Dans XGBoost, il y a un traitement parallèle qui est implémenté ce qui permet de réduire considérablement les calculs par rapport à GBM par exemple. C'est une implémentation optimisée de l’algorithme d’arbres de boosting de gradient."
   ]
  },
  {
   "cell_type": "code",
   "execution_count": null,
   "metadata": {
    "id": "CHsZkO7OYCVe"
   },
   "outputs": [],
   "source": [
    "# Instanciation du modèle\n",
    "from xgboost import XGBClassifier\n",
    "xgb = XGBClassifier(random_state=1)"
   ]
  },
  {
   "cell_type": "code",
   "execution_count": null,
   "metadata": {
    "colab": {
     "base_uri": "https://localhost:8080/"
    },
    "id": "Xmd_moOzYwN5",
    "outputId": "5c14186c-afbe-4ee8-a3bb-aab892bfb557"
   },
   "outputs": [
    {
     "name": "stdout",
     "output_type": "stream",
     "text": [
      "[20:38:34] WARNING: /workspace/src/learner.cc:686: Tree method is automatically selected to be 'approx' for faster speed. To use old behavior (exact greedy algorithm on single machine), set tree_method to 'exact'.\n"
     ]
    }
   ],
   "source": [
    "# Entraînement du modèle sur les données d'apprentissage \n",
    "modele_xgbBoost = xgb.fit(XTrain,YTrain)"
   ]
  },
  {
   "cell_type": "code",
   "execution_count": null,
   "metadata": {
    "colab": {
     "base_uri": "https://localhost:8080/",
     "height": 183
    },
    "id": "auXuDCpcbg6Q",
    "outputId": "a9ee01db-8eef-4c13-df4c-e0949b95e8ab"
   },
   "outputs": [
    {
     "ename": "NameError",
     "evalue": "ignored",
     "output_type": "error",
     "traceback": [
      "\u001b[0;31m---------------------------------------------------------------------------\u001b[0m",
      "\u001b[0;31mNameError\u001b[0m                                 Traceback (most recent call last)",
      "\u001b[0;32m<ipython-input-48-a7d1ff35de17>\u001b[0m in \u001b[0;36m<module>\u001b[0;34m()\u001b[0m\n\u001b[1;32m      1\u001b[0m \u001b[0;31m# Prédiction sur nos données test\u001b[0m\u001b[0;34m\u001b[0m\u001b[0;34m\u001b[0m\u001b[0;34m\u001b[0m\u001b[0m\n\u001b[0;32m----> 2\u001b[0;31m \u001b[0mprediction_xgbBoost\u001b[0m \u001b[0;34m=\u001b[0m \u001b[0mmodele_xgbBoost\u001b[0m\u001b[0;34m.\u001b[0m\u001b[0mpredict\u001b[0m\u001b[0;34m(\u001b[0m\u001b[0mXTest\u001b[0m\u001b[0;34m)\u001b[0m\u001b[0;34m\u001b[0m\u001b[0;34m\u001b[0m\u001b[0m\n\u001b[0m",
      "\u001b[0;31mNameError\u001b[0m: name 'modele_xgbBoost' is not defined"
     ]
    }
   ],
   "source": [
    "# Prédiction sur nos données test\n",
    "prediction_xgbBoost = modele_xgbBoost.predict(XTest)"
   ]
  },
  {
   "cell_type": "code",
   "execution_count": null,
   "metadata": {
    "id": "rqM11_z2byF_"
   },
   "outputs": [],
   "source": [
    "# Matrice de confusion\n",
    "from sklearn import metrics\n",
    "matrice_confusion = metrics.confusion_matrix(YTest,prediction_xgbBoost)\n",
    "print(matrice_confusion)"
   ]
  },
  {
   "cell_type": "code",
   "execution_count": null,
   "metadata": {
    "id": "Qbb1OoE6cVFi"
   },
   "outputs": [],
   "source": [
    "# Calcul du f1 score\n",
    "f1_score_xgbBoost = metrics.f1_score(YTest, prediction_xgbBoost)\n",
    "print(f1_score_xgbBoost)"
   ]
  },
  {
   "cell_type": "markdown",
   "metadata": {
    "id": "i-jiKAKy79hd"
   },
   "source": [
    "La f1 mesure pour ce modèle est de 16%, ce qui est faible. Nous avons utilisé un modèle avec des variables centrées réduites et avec un rééchantillonnage afin d'équilibrer les classes de la variable cible. "
   ]
  },
  {
   "cell_type": "code",
   "execution_count": null,
   "metadata": {
    "id": "oF3FlqrS8G2J"
   },
   "outputs": [],
   "source": [
    "# Ordre des modalités de la variable cible \n",
    "modele_xgbBoost.classes_"
   ]
  },
  {
   "cell_type": "markdown",
   "metadata": {
    "id": "MT4Xv0du8J_y"
   },
   "source": [
    "On souhaite prédire la modalité 1 de la variable cible, la transaction refusée. Nous allons afficher graphiquement la prédiction à l'aide d'une courbe ROC. Donc, nous sélectionnons uniquement la première colonne des probabilités d'appartenance c'est-à-dire celles qui concernent les transactions refusées. "
   ]
  },
  {
   "cell_type": "code",
   "execution_count": null,
   "metadata": {
    "id": "rHFyfD6VH5hR"
   },
   "outputs": [],
   "source": [
    "# Courbe ROC\n",
    "import matplotlib.pyplot as plt\n",
    "from sklearn.metrics import roc_auc_score, roc_curve\n",
    "proba_positif_xgBoost =  modele_xgbBoost.predict_proba(XTest)\n",
    "plt.figure()\n",
    "fp, vp, _ = roc_curve(YTest, proba_positif_xgBoost[:,1])\n",
    "plt.plot(fp, vp, marker='.')\n",
    "plt.xlabel('Taux - FP')\n",
    "plt.ylabel('Taux - VP')\n",
    "plt.show()\n",
    "# Affichage de l'aire sous la courbe\n",
    "print(roc_auc_score(YTest, proba_positif_xgBoost[:,1]))"
   ]
  },
  {
   "cell_type": "markdown",
   "metadata": {
    "id": "1rz0RWs2mvlu"
   },
   "source": [
    "Nous utilisons le AUC score afin d'approximer l'efficacité des modèles. Pour le Gradient Boosting, nous avons un AUC score de 92,2%."
   ]
  },
  {
   "cell_type": "markdown",
   "metadata": {
    "id": "Wma_6lvwI1Pj"
   },
   "source": [
    "### 2.2 K plus proches voisins "
   ]
  },
  {
   "cell_type": "markdown",
   "metadata": {
    "id": "suzIhx-MTJr5"
   },
   "source": [
    "Nous allons tester une méthode des K plus proches voisins. Les KNN est une méthode supervisée qui a pour principe de sélectionner le nombre de K voisins, calculer la distance puis, prendre les K voisins les plus proches selon la distance calculée. Parmi ces K voisins, compter le nombre de points  appartenant à chaque catégorie et attribuer le nouveau point à la catégorie la plus présente parmis ces K voisins."
   ]
  },
  {
   "cell_type": "code",
   "execution_count": null,
   "metadata": {
    "id": "xe-M9OqpZA0N"
   },
   "outputs": [],
   "source": [
    "# Instanciation du modèle\n",
    "from sklearn.neighbors import KNeighborsClassifier\n",
    "KNN = KNeighborsClassifier()"
   ]
  },
  {
   "cell_type": "code",
   "execution_count": null,
   "metadata": {
    "id": "_9-xq6eFhWB2"
   },
   "outputs": [],
   "source": [
    "# Modèle sur les données d'apprentissage \n",
    "modele_knn = KNN.fit(XTrain,YTrain)"
   ]
  },
  {
   "cell_type": "code",
   "execution_count": null,
   "metadata": {
    "id": "RT0cz1ykheZ6"
   },
   "outputs": [],
   "source": [
    "# Prédiction sur les données de test\n",
    "prediction_knn = modele_knn.predict(XTest)"
   ]
  },
  {
   "cell_type": "markdown",
   "metadata": {
    "id": "5zNACAXtSwcn"
   },
   "source": [
    "La prédiction sur les données test pour cette méthode a tourné très longtemps donc nous n'avons pas eu de résultats. Nous en concluons qu'une méthode des K plus proches voisins sur des données massives n'est pas adaptée. Il faudrait peut-être effectuer des transformations en amont afin de réduire les dimensions des données et pouvoir appliquer cette méthode. "
   ]
  },
  {
   "cell_type": "markdown",
   "metadata": {
    "id": "t5XQZktYimqr"
   },
   "source": [
    "### 2.3 Régression Logistique\n",
    "\n",
    "Ensuite, nous allons tester la Régression Logistique. Un modèle de régression logistique permet de prédire la probabilité qu’un événement arrive (valeur de 1) ou non (valeur de 0) à partir de l’optimisation des coefficients de régression. Ce résultat varie toujours entre 0 et 1. Lorsque la valeur prédite est supérieure à un seuil, l’événement est susceptible de se produire, alors que lorsque cette valeur est inférieure au même seuil, il ne l’est pas. C'est une méthode supervisée. "
   ]
  },
  {
   "cell_type": "code",
   "execution_count": null,
   "metadata": {
    "id": "ADltvvKHij3o"
   },
   "outputs": [],
   "source": [
    "from sklearn.linear_model import LogisticRegression\n",
    "# Instanciation du modèle\n",
    "reglog=LogisticRegression(solver='liblinear',max_iter=5000)"
   ]
  },
  {
   "cell_type": "code",
   "execution_count": null,
   "metadata": {
    "id": "4KDEm7IEAIqj"
   },
   "outputs": [],
   "source": [
    "# Apprentissage du modèle sur les données d'apprentissage standardisées\n",
    "modele_reglog = reglog.fit(XTrain,YTrain)"
   ]
  },
  {
   "cell_type": "code",
   "execution_count": null,
   "metadata": {
    "id": "OipqkEGJAEF7"
   },
   "outputs": [],
   "source": [
    "# Prédiction sur les données test\n",
    "prediction_logisticregression = modele_reglog.predict(XTest)"
   ]
  },
  {
   "cell_type": "code",
   "execution_count": null,
   "metadata": {
    "colab": {
     "base_uri": "https://localhost:8080/"
    },
    "id": "eMpdYD6KAAUs",
    "outputId": "976e5d2d-1780-408b-a3bb-fcf2e500c406"
   },
   "outputs": [
    {
     "name": "stdout",
     "output_type": "stream",
     "text": [
      "[[688809  41774]\n",
      " [  1212   5273]]\n",
      "0.1970036613614287\n"
     ]
    }
   ],
   "source": [
    "# Affichage de la matrice de confusion\n",
    "from sklearn import metrics\n",
    "print(metrics.confusion_matrix(YTest,prediction_logisticregression))\n",
    "# Affichage du F1-score\n",
    "print(metrics.f1_score(YTest,prediction_logisticregression))"
   ]
  },
  {
   "cell_type": "markdown",
   "metadata": {
    "id": "ADmLqbb0imZf"
   },
   "source": [
    "Le F1-Score pour la régression logistique avec les données standardisées et rééchantillonées s'élève aux alentours de 0.2, ce qui est très faible. Le résultat est quand même légérement supérieur à la f1 mesure pour le modèle du Gradient Boosting. "
   ]
  },
  {
   "cell_type": "code",
   "execution_count": null,
   "metadata": {
    "colab": {
     "base_uri": "https://localhost:8080/",
     "height": 296
    },
    "id": "vr3dKtWDpxdl",
    "outputId": "7a12e71a-c6d3-42ca-ce4d-f83ee759c7aa"
   },
   "outputs": [
    {
     "data": {
      "image/png": "[encoded data removed]",
      "text/plain": [
       "<Figure size 432x288 with 1 Axes>"
      ]
     },
     "metadata": {
      "needs_background": "light"
     },
     "output_type": "display_data"
    },
    {
     "name": "stdout",
     "output_type": "stream",
     "text": [
      "0.9348675789707477\n"
     ]
    }
   ],
   "source": [
    "# Courbe ROC\n",
    "import matplotlib.pyplot as plt\n",
    "from sklearn.metrics import roc_auc_score, roc_curve\n",
    "proba_positif_reglog =  reglog.predict_proba(XTest)\n",
    "plt.figure()\n",
    "fp, vp, _ = roc_curve(YTest, proba_positif_reglog[:,1])\n",
    "plt.plot(fp, vp, marker='.')\n",
    "plt.xlabel('Taux - FP')\n",
    "plt.ylabel('Taux - VP')\n",
    "plt.show()\n",
    "# Affichage de l'aire sous la courbe\n",
    "print(roc_auc_score(YTest, proba_positif_reglog[:,1]))"
   ]
  },
  {
   "cell_type": "markdown",
   "metadata": {
    "id": "dJKpAM-VFQzm"
   },
   "source": [
    "### 2.4 Arbre de décision\n",
    "\n"
   ]
  },
  {
   "cell_type": "markdown",
   "metadata": {
    "id": "PCbX6JAiGfvq"
   },
   "source": [
    "Dans cette partie, nous testons un modèle d'arbre de décision qui est une méthode supervisée. Ces algorithmes sélectionnent automatiquement les variables discriminantes à partir de données volumineuses. Ils peuvent ainsi permettre d'extraire des règles logiques de cause à effet (des déterminismes) qui n'apparaissaient pas initialement dans les données brutes"
   ]
  },
  {
   "cell_type": "code",
   "execution_count": null,
   "metadata": {
    "id": "BVutIp7J8kfR"
   },
   "outputs": [],
   "source": [
    "# Arbre de décision\n",
    "from sklearn.tree import DecisionTreeClassifier\n",
    "arbreD = DecisionTreeClassifier(random_state=1)"
   ]
  },
  {
   "cell_type": "code",
   "execution_count": null,
   "metadata": {
    "colab": {
     "base_uri": "https://localhost:8080/"
    },
    "id": "iYwlDVet8n74",
    "outputId": "058cec55-8583-4653-eb38-ba58882d3660"
   },
   "outputs": [
    {
     "data": {
      "text/plain": [
       "DecisionTreeClassifier(random_state=1)"
      ]
     },
     "execution_count": 55,
     "metadata": {},
     "output_type": "execute_result"
    }
   ],
   "source": [
    "# Estimation sur les données d'apprentissage\n",
    "arbreD.fit(XTrain,YTrain)"
   ]
  },
  {
   "cell_type": "code",
   "execution_count": null,
   "metadata": {
    "id": "ksLg4UG58qQT"
   },
   "outputs": [],
   "source": [
    "# Prédiction sur les données de test\n",
    "prediction_arbreD = arbreD.predict(XTest)"
   ]
  },
  {
   "cell_type": "code",
   "execution_count": null,
   "metadata": {
    "colab": {
     "base_uri": "https://localhost:8080/"
    },
    "id": "2t1DWmAe8t7W",
    "outputId": "7f179bdd-7cb1-433c-851a-e51dbefeb434"
   },
   "outputs": [
    {
     "name": "stdout",
     "output_type": "stream",
     "text": [
      "[[719274  11309]\n",
      " [  1967   4518]]\n"
     ]
    }
   ],
   "source": [
    "# Matrice de confusion\n",
    "from sklearn import metrics\n",
    "matrice_confusion_arbreD = metrics.confusion_matrix(YTest,prediction_arbreD)\n",
    "print(matrice_confusion_arbreD)"
   ]
  },
  {
   "cell_type": "code",
   "execution_count": null,
   "metadata": {
    "colab": {
     "base_uri": "https://localhost:8080/"
    },
    "id": "juezEpHW8wFw",
    "outputId": "81fded89-9bd0-4e34-908d-a38e3e42e30e"
   },
   "outputs": [
    {
     "name": "stdout",
     "output_type": "stream",
     "text": [
      "0.404983865184654\n"
     ]
    }
   ],
   "source": [
    "# Calcul du f1 score\n",
    "f1_score_arbreD = metrics.f1_score(YTest, prediction_arbreD)\n",
    "print(f1_score_arbreD)"
   ]
  },
  {
   "cell_type": "markdown",
   "metadata": {
    "id": "jFDnqTYG95wN"
   },
   "source": [
    "Nous obtenons une f1 mesure de 40% ce qui est notre meilleur résultat pour l'instant. "
   ]
  },
  {
   "cell_type": "code",
   "execution_count": null,
   "metadata": {
    "colab": {
     "base_uri": "https://localhost:8080/",
     "height": 296
    },
    "id": "LrCRl1Bd8wt4",
    "outputId": "6d528a95-31b3-4896-a104-4ce87fa1512f"
   },
   "outputs": [
    {
     "data": {
      "image/png": "[encoded data removed]",
      "text/plain": [
       "<Figure size 432x288 with 1 Axes>"
      ]
     },
     "metadata": {
      "needs_background": "light"
     },
     "output_type": "display_data"
    },
    {
     "name": "stdout",
     "output_type": "stream",
     "text": [
      "0.8406852673655709\n"
     ]
    }
   ],
   "source": [
    "# Courbe ROC\n",
    "import matplotlib.pyplot as plt\n",
    "from sklearn.metrics import roc_auc_score, roc_curve\n",
    "proba_positif_arbreD =  arbreD.predict_proba(XTest)\n",
    "plt.figure()\n",
    "fp, vp, _ = roc_curve(YTest, proba_positif_arbreD[:,1])\n",
    "plt.plot(fp, vp, marker='.')\n",
    "plt.xlabel('Taux - FP')\n",
    "plt.ylabel('Taux - VP')\n",
    "plt.show()\n",
    "# Affichage de l'aire sous la courbe\n",
    "print(roc_auc_score(YTest, proba_positif_arbreD[:,1]))"
   ]
  },
  {
   "cell_type": "markdown",
   "metadata": {
    "id": "xsQQoCIjJufR"
   },
   "source": [
    "L'AUC score pour l'arbre de décision s'élève à 84,12%, ce qui signifie que le modèle classe les individus assez efficacement."
   ]
  },
  {
   "cell_type": "markdown",
   "metadata": {
    "id": "H8PIKi-tqA_f"
   },
   "source": [
    "### 2.5 Analyse Discrimante Linéaire\n",
    "\n",
    "Pour terminer, la dernière méthode choisie est l'Analyse Discriminante Linéaire sur les données standardisées et rééchantillonnées avec la méthode SMOTE. La méthode de l'analyse discriminante linéaire consiste, dans ce cas, à construire une fonction de classement (règle d’affectation, …) qui permet de prédire le groupe d’appartenance d’un individu à partir des valeurs prises par les variables prédictives. Elle repose sur un cadre probabiliste."
   ]
  },
  {
   "cell_type": "code",
   "execution_count": null,
   "metadata": {
    "id": "7eODm8rsr2Mp"
   },
   "outputs": [],
   "source": [
    "from sklearn.discriminant_analysis import LinearDiscriminantAnalysis\n",
    "\n",
    "# Instanciation du modèle\n",
    "a_discri = LinearDiscriminantAnalysis()"
   ]
  },
  {
   "cell_type": "code",
   "execution_count": null,
   "metadata": {
    "id": "1nMrx5NvGWUe"
   },
   "outputs": [],
   "source": [
    "# Apprentissage du modèle sur les données d'apprentissage\n",
    "modele_a_discri = a_discri.fit(XTrain,YTrain)"
   ]
  },
  {
   "cell_type": "code",
   "execution_count": null,
   "metadata": {
    "id": "fYBv2xohGIg8"
   },
   "outputs": [],
   "source": [
    "# Prédiction sur les données test\n",
    "prediction_a_discri = modele_a_discri.predict(XTest)"
   ]
  },
  {
   "cell_type": "code",
   "execution_count": null,
   "metadata": {
    "colab": {
     "base_uri": "https://localhost:8080/"
    },
    "id": "OvJHZuaYGTbX",
    "outputId": "ac43c35c-ffc4-4b8c-b944-2f62e56f5611"
   },
   "outputs": [
    {
     "name": "stdout",
     "output_type": "stream",
     "text": [
      "[[709761  20822]\n",
      " [  1540   4945]]\n",
      "0.30664764975815456\n"
     ]
    }
   ],
   "source": [
    "# Affichage de la matrice de confusion\n",
    "print(metrics.confusion_matrix(YTest,prediction_a_discri))\n",
    "#Affichage du F1-score\n",
    "print(metrics.f1_score(YTest,prediction_a_discri))"
   ]
  },
  {
   "cell_type": "markdown",
   "metadata": {
    "id": "rIuHzdEE-DQE"
   },
   "source": [
    "Nous obtenons une f1 mesure de 30%."
   ]
  },
  {
   "cell_type": "code",
   "execution_count": null,
   "metadata": {
    "colab": {
     "base_uri": "https://localhost:8080/",
     "height": 296
    },
    "id": "3Ql0F-IcGD5I",
    "outputId": "e73ac7f0-7791-4b9a-c42b-e8cd7fc9a56e"
   },
   "outputs": [
    {
     "data": {
      "image/png": "[encoded data removed]",
      "text/plain": [
       "<Figure size 432x288 with 1 Axes>"
      ]
     },
     "metadata": {
      "needs_background": "light"
     },
     "output_type": "display_data"
    },
    {
     "name": "stdout",
     "output_type": "stream",
     "text": [
      "0.9325538188204023\n"
     ]
    }
   ],
   "source": [
    "# Courbe ROC\n",
    "from sklearn.metrics import roc_auc_score, roc_curve\n",
    "plt.figure()\n",
    "proba_positif_a_discri =  a_discri.predict_proba(XTest)\n",
    "fp, vp, _ = roc_curve(YTest, proba_positif_a_discri[:,1])\n",
    "plt.plot(fp, vp, marker='.')\n",
    "plt.xlabel('Taux - FP')\n",
    "plt.ylabel('Taux - VP')\n",
    "plt.show()\n",
    "#Affichage de l'aire sous la courbe\n",
    "print(roc_auc_score(YTest, proba_positif_a_discri[:,1]))"
   ]
  },
  {
   "cell_type": "markdown",
   "metadata": {
    "id": "K_fAeSP9I90J"
   },
   "source": [
    "Pour l'Analyse Discriminante Linéaire, nous avons une probabilité de 93,25% que la fonction SCORE place un positif devant un négatif. "
   ]
  },
  {
   "cell_type": "markdown",
   "metadata": {
    "id": "9TUhz6T_CN5I"
   },
   "source": [
    "# 3 Comparaison des modèles\n",
    "\n",
    "Pour terminer, nous allons faire une comparaison des modèles afin de voir lequel serait le meilleur."
   ]
  },
  {
   "cell_type": "code",
   "execution_count": null,
   "metadata": {
    "colab": {
     "base_uri": "https://localhost:8080/",
     "height": 252
    },
    "id": "lRNkEld7CYkc",
    "outputId": "4ddc3703-3ea9-44a4-b994-9982ec624c2e"
   },
   "outputs": [
    {
     "ename": "NameError",
     "evalue": "ignored",
     "output_type": "error",
     "traceback": [
      "\u001b[0;31m---------------------------------------------------------------------------\u001b[0m",
      "\u001b[0;31mNameError\u001b[0m                                 Traceback (most recent call last)",
      "\u001b[0;32m<ipython-input-66-649e1a85d4b2>\u001b[0m in \u001b[0;36m<module>\u001b[0;34m()\u001b[0m\n\u001b[1;32m      1\u001b[0m \u001b[0mplt\u001b[0m\u001b[0;34m.\u001b[0m\u001b[0mfigure\u001b[0m\u001b[0;34m(\u001b[0m\u001b[0;34m)\u001b[0m\u001b[0;34m\u001b[0m\u001b[0;34m\u001b[0m\u001b[0m\n\u001b[0;32m----> 2\u001b[0;31m \u001b[0mfpxgBoost\u001b[0m\u001b[0;34m,\u001b[0m \u001b[0mvpxgBoost\u001b[0m\u001b[0;34m,\u001b[0m \u001b[0m_\u001b[0m \u001b[0;34m=\u001b[0m \u001b[0mroc_curve\u001b[0m\u001b[0;34m(\u001b[0m\u001b[0mYTest\u001b[0m\u001b[0;34m,\u001b[0m \u001b[0mproba_positif_xgBoost\u001b[0m\u001b[0;34m[\u001b[0m\u001b[0;34m:\u001b[0m\u001b[0;34m,\u001b[0m\u001b[0;36m1\u001b[0m\u001b[0;34m]\u001b[0m\u001b[0;34m)\u001b[0m\u001b[0;34m\u001b[0m\u001b[0;34m\u001b[0m\u001b[0m\n\u001b[0m\u001b[1;32m      3\u001b[0m \u001b[0mplt\u001b[0m\u001b[0;34m.\u001b[0m\u001b[0mplot\u001b[0m\u001b[0;34m(\u001b[0m\u001b[0mfpxgBoost\u001b[0m\u001b[0;34m,\u001b[0m \u001b[0mvpxgBoost\u001b[0m\u001b[0;34m,\u001b[0m \u001b[0mmarker\u001b[0m\u001b[0;34m=\u001b[0m\u001b[0;34m'.'\u001b[0m\u001b[0;34m)\u001b[0m\u001b[0;34m\u001b[0m\u001b[0;34m\u001b[0m\u001b[0m\n\u001b[1;32m      4\u001b[0m \u001b[0mfprl\u001b[0m\u001b[0;34m,\u001b[0m \u001b[0mvprl\u001b[0m\u001b[0;34m,\u001b[0m \u001b[0m_\u001b[0m \u001b[0;34m=\u001b[0m \u001b[0mroc_curve\u001b[0m\u001b[0;34m(\u001b[0m\u001b[0mYTest\u001b[0m\u001b[0;34m,\u001b[0m \u001b[0mproba_positif_reglog\u001b[0m\u001b[0;34m[\u001b[0m\u001b[0;34m:\u001b[0m\u001b[0;34m,\u001b[0m\u001b[0;36m1\u001b[0m\u001b[0;34m]\u001b[0m\u001b[0;34m)\u001b[0m\u001b[0;34m\u001b[0m\u001b[0;34m\u001b[0m\u001b[0m\n\u001b[1;32m      5\u001b[0m \u001b[0mplt\u001b[0m\u001b[0;34m.\u001b[0m\u001b[0mplot\u001b[0m\u001b[0;34m(\u001b[0m\u001b[0mfprl\u001b[0m\u001b[0;34m,\u001b[0m \u001b[0mvprl\u001b[0m\u001b[0;34m,\u001b[0m \u001b[0mmarker\u001b[0m\u001b[0;34m=\u001b[0m\u001b[0;34m'.'\u001b[0m\u001b[0;34m)\u001b[0m\u001b[0;34m\u001b[0m\u001b[0;34m\u001b[0m\u001b[0m\n",
      "\u001b[0;31mNameError\u001b[0m: name 'proba_positif_xgBoost' is not defined"
     ]
    },
    {
     "data": {
      "text/plain": [
       "<Figure size 432x288 with 0 Axes>"
      ]
     },
     "metadata": {},
     "output_type": "display_data"
    }
   ],
   "source": [
    "plt.figure()\n",
    "fpxgBoost, vpxgBoost, _ = roc_curve(YTest, proba_positif_xgBoost[:,1])\n",
    "plt.plot(fpxgBoost, vpxgBoost, marker='.')\n",
    "fprl, vprl, _ = roc_curve(YTest, proba_positif_reglog[:,1])\n",
    "plt.plot(fprl, vprl, marker='.')\n",
    "fparbreD, vparbreD, _ = roc_curve(YTest, proba_positif_arbreD[:,1])\n",
    "plt.plot(fparbreD, vparbreD, marker='.')\n",
    "fpad, vpad, _ = roc_curve(YTest, proba_positif_a_discri[:,1])\n",
    "plt.plot(fpad, vpad, marker='.')\n",
    "plt.xlabel('Taux - FP')\n",
    "plt.ylabel('Taux - VP')\n",
    "plt.show()"
   ]
  },
  {
   "cell_type": "markdown",
   "metadata": {
    "id": "4JSdZV5dsp_M"
   },
   "source": [
    "Sur ce graphique comparant les courbes ROC des modèles (méthode des plus proches voisins exclue), nous remarquons que la courbe représentant l'arbre de décision est toujours en dessous des courbes représentant les autres modèles, qui elles se superposent. Il n'y a donc aucune situation où l'arbre de décision serait un meilleur modèle de prédiction que les autres."
   ]
  },
  {
   "cell_type": "markdown",
   "metadata": {
    "id": "tQYA3e-uoF4F"
   },
   "source": [
    "# Conclusion\n",
    "\n",
    "Pour conclure, nous pouvons dire que nous avons réalisé des étapes préliminaires avant de tester plusieurs modèles de prédiction. En effet, nous avons sélectionné les variables utiles à la prédiction, puis nous avons centré-réduit les variables explicatives et enfin, nous avons rééchantillonné nos données afin d'équilibrer les classes de la variable cible avec la méthode SMOTE. \n",
    "\n",
    "Après ces différentes étapes, nous avons pu tester plusieurs modèles de machine learning. Tout d'abord, nous avons séparé en données d'apprentissage et de test. Puis, nous avons décidé de réaliser un modèle de gradient boosting, un modèle de K plus proches voisins, une régression logistique, un arbre de décision et une analyse discriminante linéaire. Nous avons évalué nos modèles sur les données test, calculer la f1 mesure et fait une courbe ROC. Nous avons obtenu le meilleur modèle avec l'arbre de décision avec une f1 mesure de 0.4, cependant nous nous sommes aperçus qu'il s'agit également du pire modèle de préddiction en terme de AUC score et en visualisant le graphique comparant les courbes ROC des différents modèles.\n",
    "\n",
    "Ce projet nous a permis de réaliser un travail complet sur des données réelles. Le volume des données était notre principale difficulté. De plus, nous étions face à des données déséquilibrées donc il fallait gérer ce problème de façon à obtenir des prédictions correctes. \n",
    "\n",
    "Pour aller plus loin, on aurait pu réaliser d'autres modèles de machine learning ou approfondir les modèles que nous avons fait. Par exemple, une recherche de paramètres optimaux aurait pu être utile mais le temps d'éxécution des programmes était très gourmand en temps."
   ]
  }
 ],
 "metadata": {
  "colab": {
   "collapsed_sections": [],
   "name": "Projet_Fouille_donnees_massives.ipynb",
   "provenance": []
  },
  "kernelspec": {
   "display_name": "Python 3",
   "language": "python",
   "name": "python3"
  },
  "language_info": {
   "codemirror_mode": {
    "name": "ipython",
    "version": 3
   },
   "file_extension": ".py",
   "mimetype": "text/x-python",
   "name": "python",
   "nbconvert_exporter": "python",
   "pygments_lexer": "ipython3",
   "version": "3.8.5"
  }
 },
 "nbformat": 4,
 "nbformat_minor": 1
}
